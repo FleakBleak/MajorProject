{
 "cells": [
  {
   "cell_type": "code",
   "execution_count": 1,
   "metadata": {},
   "outputs": [],
   "source": [
    "import pandas as pd\n",
    "import numpy as np\n",
    "import matplotlib.pyplot as plt"
   ]
  },
  {
   "cell_type": "code",
   "execution_count": 2,
   "metadata": {},
   "outputs": [
    {
     "name": "stdout",
     "output_type": "stream",
     "text": [
      "   Unnamed: 0  Clothing ID  Age                    Title  \\\n",
      "0           0          767   33                      NaN   \n",
      "1           1         1080   34                      NaN   \n",
      "2           2         1077   60  Some major design flaws   \n",
      "3           3         1049   50         My favorite buy!   \n",
      "4           4          847   47         Flattering shirt   \n",
      "\n",
      "                                         Review Text  Rating  Recommended IND  \\\n",
      "0  Absolutely wonderful - silky and sexy and comf...       4                1   \n",
      "1  Love this dress!  it's sooo pretty.  i happene...       5                1   \n",
      "2  I had such high hopes for this dress and reall...       3                0   \n",
      "3  I love, love, love this jumpsuit. it's fun, fl...       5                1   \n",
      "4  This shirt is very flattering to all due to th...       5                1   \n",
      "\n",
      "   Positive Feedback Count   Division Name Department Name Class Name  \n",
      "0                        0       Initmates        Intimate  Intimates  \n",
      "1                        4         General         Dresses    Dresses  \n",
      "2                        0         General         Dresses    Dresses  \n",
      "3                        0  General Petite         Bottoms      Pants  \n",
      "4                        6         General            Tops    Blouses  \n",
      "(23486, 11)\n"
     ]
    }
   ],
   "source": [
    "original_data = pd.read_csv('Womens Clothing E-Commerce Reviews.csv')\n",
    "print(original_data.head())\n",
    "print(original_data.shape)"
   ]
  },
  {
   "cell_type": "code",
   "execution_count": 3,
   "metadata": {},
   "outputs": [
    {
     "name": "stdout",
     "output_type": "stream",
     "text": [
      "Unnamed: 0                    0\n",
      "Clothing ID                   0\n",
      "Age                           0\n",
      "Rating                        0\n",
      "Recommended IND               0\n",
      "Positive Feedback Count       0\n",
      "Division Name                14\n",
      "Department Name              14\n",
      "Class Name                   14\n",
      "Review Text                 845\n",
      "Title                      3810\n",
      "dtype: int64\n"
     ]
    }
   ],
   "source": [
    "print(original_data.isna().sum().sort_values())"
   ]
  },
  {
   "cell_type": "code",
   "execution_count": 4,
   "metadata": {},
   "outputs": [],
   "source": [
    "original_data = original_data.dropna(subset=['Review Text'])"
   ]
  },
  {
   "cell_type": "code",
   "execution_count": 5,
   "metadata": {},
   "outputs": [
    {
     "name": "stdout",
     "output_type": "stream",
     "text": [
      "Unnamed: 0                    0\n",
      "Clothing ID                   0\n",
      "Age                           0\n",
      "Review Text                   0\n",
      "Rating                        0\n",
      "Recommended IND               0\n",
      "Positive Feedback Count       0\n",
      "Division Name                13\n",
      "Department Name              13\n",
      "Class Name                   13\n",
      "Title                      2966\n",
      "dtype: int64\n"
     ]
    }
   ],
   "source": [
    "print(original_data.isna().sum().sort_values())"
   ]
  },
  {
   "cell_type": "code",
   "execution_count": 6,
   "metadata": {},
   "outputs": [
    {
     "name": "stdout",
     "output_type": "stream",
     "text": [
      "   Unnamed: 0  Clothing ID  Age                    Title  \\\n",
      "0           0          767   33                      NaN   \n",
      "1           1         1080   34                      NaN   \n",
      "2           2         1077   60  Some major design flaws   \n",
      "3           3         1049   50         My favorite buy!   \n",
      "4           4          847   47         Flattering shirt   \n",
      "\n",
      "                                         Review Text  Rating  Recommended IND  \\\n",
      "0  Absolutely wonderful - silky and sexy and comf...       4                1   \n",
      "1  Love this dress!  it's sooo pretty.  i happene...       5                1   \n",
      "2  I had such high hopes for this dress and reall...       3                0   \n",
      "3  I love, love, love this jumpsuit. it's fun, fl...       5                1   \n",
      "4  This shirt is very flattering to all due to th...       5                1   \n",
      "\n",
      "   Positive Feedback Count   Division Name Department Name Class Name  \n",
      "0                        0       Initmates        Intimate  Intimates  \n",
      "1                        4         General         Dresses    Dresses  \n",
      "2                        0         General         Dresses    Dresses  \n",
      "3                        0  General Petite         Bottoms      Pants  \n",
      "4                        6         General            Tops    Blouses  \n"
     ]
    }
   ],
   "source": [
    "print(original_data.head())"
   ]
  },
  {
   "cell_type": "code",
   "execution_count": 7,
   "metadata": {},
   "outputs": [],
   "source": [
    "original_data['Title'].fillna('', inplace=True)"
   ]
  },
  {
   "cell_type": "code",
   "execution_count": 8,
   "metadata": {},
   "outputs": [
    {
     "name": "stdout",
     "output_type": "stream",
     "text": [
      "Unnamed: 0                  0\n",
      "Clothing ID                 0\n",
      "Age                         0\n",
      "Title                       0\n",
      "Review Text                 0\n",
      "Rating                      0\n",
      "Recommended IND             0\n",
      "Positive Feedback Count     0\n",
      "Division Name              13\n",
      "Department Name            13\n",
      "Class Name                 13\n",
      "dtype: int64\n"
     ]
    }
   ],
   "source": [
    "print(original_data.isna().sum().sort_values())"
   ]
  },
  {
   "cell_type": "code",
   "execution_count": 9,
   "metadata": {},
   "outputs": [
    {
     "name": "stdout",
     "output_type": "stream",
     "text": [
      "   Unnamed: 0  Clothing ID  Age                    Title  \\\n",
      "0           0          767   33                            \n",
      "1           1         1080   34                            \n",
      "2           2         1077   60  Some major design flaws   \n",
      "3           3         1049   50         My favorite buy!   \n",
      "4           4          847   47         Flattering shirt   \n",
      "\n",
      "                                         Review Text  Rating  Recommended IND  \\\n",
      "0  Absolutely wonderful - silky and sexy and comf...       4                1   \n",
      "1  Love this dress!  it's sooo pretty.  i happene...       5                1   \n",
      "2  I had such high hopes for this dress and reall...       3                0   \n",
      "3  I love, love, love this jumpsuit. it's fun, fl...       5                1   \n",
      "4  This shirt is very flattering to all due to th...       5                1   \n",
      "\n",
      "   Positive Feedback Count   Division Name Department Name Class Name  \\\n",
      "0                        0       Initmates        Intimate  Intimates   \n",
      "1                        4         General         Dresses    Dresses   \n",
      "2                        0         General         Dresses    Dresses   \n",
      "3                        0  General Petite         Bottoms      Pants   \n",
      "4                        6         General            Tops    Blouses   \n",
      "\n",
      "                                                Text  \n",
      "0   Absolutely wonderful - silky and sexy and com...  \n",
      "1   Love this dress!  it's sooo pretty.  i happen...  \n",
      "2  Some major design flaws I had such high hopes ...  \n",
      "3  My favorite buy! I love, love, love this jumps...  \n",
      "4  Flattering shirt This shirt is very flattering...  \n"
     ]
    }
   ],
   "source": [
    "original_data['Text'] = original_data['Title'] + ' ' + original_data['Review Text']\n",
    "print(original_data.head())"
   ]
  },
  {
   "cell_type": "code",
   "execution_count": 10,
   "metadata": {},
   "outputs": [
    {
     "name": "stdout",
     "output_type": "stream",
     "text": [
      "                                                Text  Recommended IND\n",
      "0   Absolutely wonderful - silky and sexy and com...                1\n",
      "1   Love this dress!  it's sooo pretty.  i happen...                1\n",
      "2  Some major design flaws I had such high hopes ...                0\n",
      "3  My favorite buy! I love, love, love this jumps...                1\n",
      "4  Flattering shirt This shirt is very flattering...                1\n"
     ]
    }
   ],
   "source": [
    "train_test_data = original_data[['Text', 'Recommended IND']]\n",
    "print(train_test_data.head())"
   ]
  },
  {
   "cell_type": "code",
   "execution_count": 11,
   "metadata": {},
   "outputs": [
    {
     "name": "stdout",
     "output_type": "stream",
     "text": [
      "Text               0\n",
      "Recommended IND    0\n",
      "dtype: int64\n"
     ]
    }
   ],
   "source": [
    "print(train_test_data.isna().sum().sort_values())"
   ]
  },
  {
   "cell_type": "code",
   "execution_count": 12,
   "metadata": {},
   "outputs": [
    {
     "name": "stdout",
     "output_type": "stream",
     "text": [
      "Text               object\n",
      "Recommended IND     int64\n",
      "dtype: object\n"
     ]
    }
   ],
   "source": [
    "print(train_test_data.dtypes)"
   ]
  },
  {
   "cell_type": "code",
   "execution_count": 13,
   "metadata": {},
   "outputs": [],
   "source": [
    "# Convert Recommended IND to category\n",
    "train_test_data = train_test_data.astype({'Recommended IND' : 'category'})\n",
    "\n",
    "# Write an assert statement making sure of conversion\n",
    "assert train_test_data['Recommended IND'].dtype == 'category'"
   ]
  },
  {
   "cell_type": "code",
   "execution_count": 14,
   "metadata": {},
   "outputs": [
    {
     "name": "stdout",
     "output_type": "stream",
     "text": [
      "Text                 object\n",
      "Recommended IND    category\n",
      "dtype: object\n"
     ]
    }
   ],
   "source": [
    "print(train_test_data.dtypes)"
   ]
  },
  {
   "cell_type": "code",
   "execution_count": 15,
   "metadata": {},
   "outputs": [
    {
     "data": {
      "image/png": "[encoded data removed]",
      "text/plain": [
       "<Figure size 640x480 with 1 Axes>"
      ]
     },
     "metadata": {},
     "output_type": "display_data"
    },
    {
     "name": "stdout",
     "output_type": "stream",
     "text": [
      "0     4101\n",
      "1    18540\n",
      "Name: Recommended IND, dtype: int64\n"
     ]
    }
   ],
   "source": [
    "recommended_index_value_counts = train_test_data['Recommended IND'].value_counts().sort_values()\n",
    "recommended_index_value_counts.plot(kind='bar', title='Total counts by Recommended IND', xlabel='Recommended IND', ylabel='counts', rot=0)\n",
    "plt.show()\n",
    "print(recommended_index_value_counts)"
   ]
  },
  {
   "cell_type": "code",
   "execution_count": 16,
   "metadata": {},
   "outputs": [],
   "source": [
    "import nltk\n",
    "import re\n",
    "from nltk.stem import WordNetLemmatizer\n",
    "from nltk.tokenize import word_tokenize\n",
    "from nltk.corpus import stopwords\n",
    "\n",
    "def preprocess_text(text):\n",
    "    \n",
    "    # Remove special characters\n",
    "    text = re.sub(r\"[^a-zA-Z]\", \" \", text)\n",
    "\n",
    "    # Convert to lowercase\n",
    "    text = text.lower()\n",
    "    \n",
    "    # Tokenize the text\n",
    "    tokens = word_tokenize(text)\n",
    "    \n",
    "    # Remove stopwords\n",
    "    stop_words = set(stopwords.words('english'))\n",
    "    tokens = [token for token in tokens if token not in stop_words]\n",
    "\n",
    "    #Lemmatization\n",
    "    lemmatizer = WordNetLemmatizer()\n",
    "    tokens = [lemmatizer.lemmatize(token) for token in tokens]\n",
    "    \n",
    "    # Join the tokens back into a single string\n",
    "    text = \" \".join(tokens)\n",
    "    \n",
    "    return text"
   ]
  },
  {
   "cell_type": "code",
   "execution_count": 17,
   "metadata": {},
   "outputs": [],
   "source": [
    "# Apply preprocessing function to Text column\n",
    "train_test_data['Text'] = train_test_data['Text'].apply(preprocess_text)"
   ]
  },
  {
   "cell_type": "code",
   "execution_count": 18,
   "metadata": {},
   "outputs": [
    {
     "name": "stdout",
     "output_type": "stream",
     "text": [
      "                                                Text Recommended IND\n",
      "0        absolutely wonderful silky sexy comfortable               1\n",
      "1  love dress sooo pretty happened find store gla...               1\n",
      "2  major design flaw high hope dress really wante...               0\n",
      "3  favorite buy love love love jumpsuit fun flirt...               1\n",
      "4  flattering shirt shirt flattering due adjustab...               1\n"
     ]
    }
   ],
   "source": [
    "print(train_test_data.head())"
   ]
  },
  {
   "cell_type": "code",
   "execution_count": 19,
   "metadata": {},
   "outputs": [],
   "source": [
    "X = train_test_data['Text'].values\n",
    "y = train_test_data['Recommended IND'].values"
   ]
  },
  {
   "cell_type": "code",
   "execution_count": 20,
   "metadata": {},
   "outputs": [],
   "source": [
    "from sklearn.model_selection import train_test_split\n",
    "\n",
    "X_train, X_test, y_train, y_test = train_test_split(X, y, test_size=0.2, random_state=42, stratify=y)"
   ]
  },
  {
   "cell_type": "code",
   "execution_count": 21,
   "metadata": {},
   "outputs": [],
   "source": [
    "from sklearn.feature_extraction.text import TfidfVectorizer\n",
    "\n",
    "# Create a TF-IDF vectorizer and fit it to the training data\n",
    "tfidf_vectorizer = TfidfVectorizer()\n",
    "tfidf_vectorizer.fit(X_train)\n",
    "\n",
    "# Convert the training text data to a TF-IDF matrix\n",
    "train_tfidf_matrix = tfidf_vectorizer.transform(X_train)\n",
    "\n",
    "# Convert the test text data to a TF-IDF matrix using the trained vectorizer\n",
    "test_tfidf_matrix = tfidf_vectorizer.transform(X_test)"
   ]
  },
  {
   "cell_type": "code",
   "execution_count": 48,
   "metadata": {},
   "outputs": [
    {
     "name": "stdout",
     "output_type": "stream",
     "text": [
      "[[ 466  354]\n",
      " [ 120 3589]]\n",
      "              precision    recall  f1-score   support\n",
      "\n",
      "           0       0.80      0.57      0.66       820\n",
      "           1       0.91      0.97      0.94      3709\n",
      "\n",
      "    accuracy                           0.90      4529\n",
      "   macro avg       0.85      0.77      0.80      4529\n",
      "weighted avg       0.89      0.90      0.89      4529\n",
      "\n"
     ]
    }
   ],
   "source": [
    "from sklearn.linear_model import LogisticRegression\n",
    "from sklearn.metrics import classification_report, confusion_matrix\n",
    "\n",
    "logreg = LogisticRegression()\n",
    "logreg.fit(train_tfidf_matrix, y_train)\n",
    "\n",
    "y_pred = logreg.predict(test_tfidf_matrix)\n",
    "\n",
    "print(confusion_matrix(y_test, y_pred))\n",
    "print(classification_report(y_test, y_pred))"
   ]
  },
  {
   "cell_type": "code",
   "execution_count": 76,
   "metadata": {},
   "outputs": [
    {
     "name": "stdout",
     "output_type": "stream",
     "text": [
      "[[  58  762]\n",
      " [   1 3708]]\n",
      "              precision    recall  f1-score   support\n",
      "\n",
      "           0       0.98      0.07      0.13       820\n",
      "           1       0.83      1.00      0.91      3709\n",
      "\n",
      "    accuracy                           0.83      4529\n",
      "   macro avg       0.91      0.54      0.52      4529\n",
      "weighted avg       0.86      0.83      0.77      4529\n",
      "\n"
     ]
    }
   ],
   "source": [
    "from sklearn.naive_bayes import MultinomialNB\n",
    "\n",
    "mnb = MultinomialNB()\n",
    "mnb.fit(train_tfidf_matrix, y_train)\n",
    "\n",
    "y_pred = mnb.predict(test_tfidf_matrix)\n",
    "\n",
    "print(confusion_matrix(y_test, y_pred))\n",
    "print(classification_report(y_test, y_pred))"
   ]
  },
  {
   "cell_type": "code",
   "execution_count": 77,
   "metadata": {},
   "outputs": [
    {
     "data": {
      "image/png": "[encoded data removed]",
      "text/plain": [
       "<Figure size 640x480 with 1 Axes>"
      ]
     },
     "metadata": {},
     "output_type": "display_data"
    }
   ],
   "source": [
    "from sklearn.metrics import roc_curve\n",
    "\n",
    "y_pred_probs_logreg = logreg.predict_proba(test_tfidf_matrix)[:, 1]\n",
    "fpr_logreg, tpr_logreg, thresholds_logreg = roc_curve(y_test, y_pred_probs_logreg)\n",
    "\n",
    "y_pred_probs_mnb = mnb.predict_proba(test_tfidf_matrix)[:, 1]\n",
    "fpr_mnb, tpr_mnb, thresholds_mnb = roc_curve(y_test, y_pred_probs_mnb)\n",
    "\n",
    "plt.plot([0, 1], [0, 1], 'k--')\n",
    "\n",
    "# Plot tpr against fpr\n",
    "plt.plot(fpr_logreg, tpr_logreg, color='g', label='Logistic Regression')\n",
    "plt.plot(fpr_mnb, tpr_mnb, color='r', label='Naive Bayes')\n",
    "plt.legend()\n",
    "plt.xlabel('False Positive Rate')\n",
    "plt.ylabel('True Positive Rate')\n",
    "plt.title('ROC Curve for Text Classification')\n",
    "plt.show()"
   ]
  },
  {
   "cell_type": "code",
   "execution_count": 78,
   "metadata": {},
   "outputs": [
    {
     "name": "stdout",
     "output_type": "stream",
     "text": [
      "Tuned Logistic Regression Parameters: {'tol': 1.0, 'solver': 'liblinear', 'class_weight': 'balanced', 'C': 7.0}\n",
      "Tuned Logistic Regression Best Accuracy Score: 0.8864850929382984\n"
     ]
    },
    {
     "name": "stderr",
     "output_type": "stream",
     "text": [
      "c:\\Users\\infra\\Desktop\\Major Project\\.venv\\Lib\\site-packages\\sklearn\\model_selection\\_validation.py:378: FitFailedWarning: \n",
      "20 fits failed out of a total of 100.\n",
      "The score on these train-test partitions for these parameters will be set to nan.\n",
      "If these failures are not expected, you can try to debug them by setting error_score='raise'.\n",
      "\n",
      "Below are more details about the failures:\n",
      "--------------------------------------------------------------------------------\n",
      "20 fits failed with the following error:\n",
      "Traceback (most recent call last):\n",
      "  File \"c:\\Users\\infra\\Desktop\\Major Project\\.venv\\Lib\\site-packages\\sklearn\\model_selection\\_validation.py\", line 686, in _fit_and_score\n",
      "    estimator.fit(X_train, y_train, **fit_params)\n",
      "  File \"c:\\Users\\infra\\Desktop\\Major Project\\.venv\\Lib\\site-packages\\sklearn\\linear_model\\_logistic.py\", line 1216, in fit\n",
      "    self.coef_, self.intercept_, self.n_iter_ = _fit_liblinear(\n",
      "                                                ^^^^^^^^^^^^^^^\n",
      "  File \"c:\\Users\\infra\\Desktop\\Major Project\\.venv\\Lib\\site-packages\\sklearn\\svm\\_base.py\", line 1224, in _fit_liblinear\n",
      "    raw_coef_, n_iter_ = liblinear.train_wrap(\n",
      "                         ^^^^^^^^^^^^^^^^^^^^^\n",
      "  File \"sklearn\\svm\\_liblinear.pyx\", line 52, in sklearn.svm._liblinear.train_wrap\n",
      "ValueError: b'eps <= 0'\n",
      "\n",
      "  warnings.warn(some_fits_failed_message, FitFailedWarning)\n",
      "c:\\Users\\infra\\Desktop\\Major Project\\.venv\\Lib\\site-packages\\sklearn\\model_selection\\_search.py:953: UserWarning: One or more of the test scores are non-finite: [0.88532554 0.88609841        nan 0.8824546  0.8835038  0.88499436\n",
      " 0.88648509        nan 0.88527048 0.88637472]\n",
      "  warnings.warn(\n"
     ]
    }
   ],
   "source": [
    "from sklearn.model_selection import KFold, RandomizedSearchCV\n",
    "\n",
    "kf = KFold(n_splits=10, shuffle=True, random_state=42)\n",
    "\n",
    "# Create the parameter space\n",
    "params = {\"tol\": np.linspace(0, 1, 10), \n",
    "        \"solver\": [\"liblinear\"], \n",
    "        \"C\": np.linspace(1, 20, 20),\n",
    "        \"class_weight\": [\"balanced\"]}\n",
    "\n",
    "logreg = LogisticRegression()\n",
    "\n",
    "# Instantiate the RandomizedSearchCV object\n",
    "logreg_cv = RandomizedSearchCV(logreg, params, cv=kf, random_state=42)\n",
    "\n",
    "# Fit the data to the model\n",
    "logreg_cv.fit(train_tfidf_matrix, y_train)\n",
    "\n",
    "# Print the tuned parameters and score\n",
    "print(\"Tuned Logistic Regression Parameters: {}\".format(logreg_cv.best_params_))\n",
    "print(\"Tuned Logistic Regression Best Accuracy Score: {}\".format(logreg_cv.best_score_))"
   ]
  },
  {
   "cell_type": "code",
   "execution_count": 79,
   "metadata": {},
   "outputs": [
    {
     "name": "stdout",
     "output_type": "stream",
     "text": [
      "[[ 666  154]\n",
      " [ 362 3347]]\n",
      "              precision    recall  f1-score   support\n",
      "\n",
      "           0       0.65      0.81      0.72       820\n",
      "           1       0.96      0.90      0.93      3709\n",
      "\n",
      "    accuracy                           0.89      4529\n",
      "   macro avg       0.80      0.86      0.82      4529\n",
      "weighted avg       0.90      0.89      0.89      4529\n",
      "\n"
     ]
    }
   ],
   "source": [
    "logreg = LogisticRegression(tol=1.0,\n",
    "                            C=7.0,  \n",
    "                            solver='liblinear',      \n",
    "                            class_weight='balanced', \n",
    "                            penalty='l2')\n",
    "\n",
    "logreg.fit(train_tfidf_matrix, y_train)\n",
    "\n",
    "y_pred = logreg.predict(test_tfidf_matrix)\n",
    "\n",
    "print(confusion_matrix(y_test, y_pred))\n",
    "print(classification_report(y_test, y_pred))"
   ]
  },
  {
   "cell_type": "code",
   "execution_count": 80,
   "metadata": {},
   "outputs": [],
   "source": [
    "import pickle\n",
    "\n",
    "pickle.dump(logreg, open('model.pkl', 'wb'))\n",
    "pickle.dump(tfidf_vectorizer, open('vectorizer.pkl', 'wb'))"
   ]
  }
 ],
 "metadata": {
  "kernelspec": {
   "display_name": ".venv",
   "language": "python",
   "name": "python3"
  },
  "language_info": {
   "codemirror_mode": {
    "name": "ipython",
    "version": 3
   },
   "file_extension": ".py",
   "mimetype": "text/x-python",
   "name": "python",
   "nbconvert_exporter": "python",
   "pygments_lexer": "ipython3",
   "version": "3.11.1"
  },
  "orig_nbformat": 4,
  "vscode": {
   "interpreter": {
    "hash": "19e8de727dc2d807a3a3bd12bbb9fa7520610b5d327f81a5243a3f4ac32f943f"
   }
  }
 },
 "nbformat": 4,
 "nbformat_minor": 2
}
